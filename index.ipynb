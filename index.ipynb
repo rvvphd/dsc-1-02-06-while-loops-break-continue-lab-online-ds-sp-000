{
 "cells": [
  {
   "cell_type": "markdown",
   "metadata": {},
   "source": [
    "# While Loops, Break and Continue - Lab"
   ]
  },
  {
   "cell_type": "markdown",
   "metadata": {},
   "source": [
    "## Introduction\n",
    "In this lab, we will practice using `while` loops, and `break` and `continue` statements in our code. We will use our control flow statements to iterate through collections and filter out or selectively operate on each element. We'll use `while` loops to perform operations until a given condition is no longer true."
   ]
  },
  {
   "cell_type": "markdown",
   "metadata": {},
   "source": [
    "## Objectives\n",
    "You will be able to:\n",
    "* Use a break and continue statements inside a loop\n",
    "* Understand, explain and use while loops"
   ]
  },
  {
   "cell_type": "markdown",
   "metadata": {},
   "source": [
    "## Instructions\n",
    "\n",
    "### While Loops\n",
    "Use while loops to perform the below operations and get the expected return values"
   ]
  },
  {
   "cell_type": "code",
   "execution_count": 10,
   "metadata": {},
   "outputs": [
    {
     "name": "stdout",
     "output_type": "stream",
     "text": [
      "6\n",
      "0\n",
      "This is how many slices of pie are available and how many are eaten.\n",
      "5\n",
      "1\n",
      "This is how many slices of pie are available and how many are eaten.\n",
      "4\n",
      "2\n",
      "This is how many slices of pie are available and how many are eaten.\n",
      "3\n",
      "3\n",
      "This is how many slices of pie are available and how many are eaten.\n",
      "2\n",
      "4\n",
      "This is how many slices of pie are available and how many are eaten.\n",
      "1\n",
      "5\n",
      "This is how many slices of pie are available and how many are eaten.\n"
     ]
    }
   ],
   "source": [
    "slices_of_pie = 6\n",
    "slices_eaten = 0\n",
    "# use a while loop to eat each slice of pie\n",
    "# add each slice to the slices_eaten variable\n",
    "while slices_of_pie > 0:\n",
    "    print(slices_of_pie)\n",
    "    slices_of_pie -=1\n",
    "    print(slices_eaten)\n",
    "    slices_eaten +=1\n",
    "    print(\"This is how many slices of pie are available and how many are eaten.\")\n"
   ]
  },
  {
   "cell_type": "code",
   "execution_count": 8,
   "metadata": {},
   "outputs": [
    {
     "name": "stdout",
     "output_type": "stream",
     "text": [
      "0\n",
      "1468\n",
      "This is how many pancakes were made and how many seconds remaining.\n",
      "1\n",
      "1414\n",
      "This is how many pancakes were made and how many seconds remaining.\n",
      "2\n",
      "1360\n",
      "This is how many pancakes were made and how many seconds remaining.\n",
      "3\n",
      "1306\n",
      "This is how many pancakes were made and how many seconds remaining.\n",
      "4\n",
      "1252\n",
      "This is how many pancakes were made and how many seconds remaining.\n",
      "5\n",
      "1198\n",
      "This is how many pancakes were made and how many seconds remaining.\n",
      "6\n",
      "1144\n",
      "This is how many pancakes were made and how many seconds remaining.\n",
      "7\n",
      "1090\n",
      "This is how many pancakes were made and how many seconds remaining.\n",
      "8\n",
      "1036\n",
      "This is how many pancakes were made and how many seconds remaining.\n",
      "9\n",
      "982\n",
      "This is how many pancakes were made and how many seconds remaining.\n",
      "10\n",
      "928\n",
      "This is how many pancakes were made and how many seconds remaining.\n",
      "11\n",
      "874\n",
      "This is how many pancakes were made and how many seconds remaining.\n",
      "12\n",
      "820\n",
      "This is how many pancakes were made and how many seconds remaining.\n",
      "13\n",
      "766\n",
      "This is how many pancakes were made and how many seconds remaining.\n",
      "14\n",
      "712\n",
      "This is how many pancakes were made and how many seconds remaining.\n",
      "15\n",
      "658\n",
      "This is how many pancakes were made and how many seconds remaining.\n",
      "16\n",
      "604\n",
      "This is how many pancakes were made and how many seconds remaining.\n",
      "17\n",
      "550\n",
      "This is how many pancakes were made and how many seconds remaining.\n",
      "18\n",
      "496\n",
      "This is how many pancakes were made and how many seconds remaining.\n",
      "19\n",
      "442\n",
      "This is how many pancakes were made and how many seconds remaining.\n",
      "20\n",
      "388\n",
      "This is how many pancakes were made and how many seconds remaining.\n",
      "21\n",
      "334\n",
      "This is how many pancakes were made and how many seconds remaining.\n",
      "22\n",
      "280\n",
      "This is how many pancakes were made and how many seconds remaining.\n"
     ]
    }
   ],
   "source": [
    "time_for_breakfast = 1468 # in seconds\n",
    "number_of_cooked_pancakes = 0\n",
    "# use a while loop to make yourself 5 pancakes for breakfast\n",
    "# each pancake takes 27 seconds to cook on each side\n",
    "# you must decrease the time_for_breakfast each time you \n",
    "# add a pancake to the skillet (frying pan) or flip a pancake (i.e. 2 times per pancake)\n",
    "# there is only room for one pancake at a time\n",
    "time_for_breakfast = 1468\n",
    "number_of_pancakes = 0\n",
    "while time_for_breakfast > 270:\n",
    "    print(number_of_pancakes)\n",
    "    number_of_pancakes +=1\n",
    "    print(time_for_breakfast)\n",
    "    time_for_breakfast -=27*2\n",
    "    print(\"This is how many pancakes were made and how many seconds remaining.\")"
   ]
  },
  {
   "cell_type": "markdown",
   "metadata": {},
   "source": [
    "> **Hint:** You may find the [remove method](https://www.programiz.com/python-programming/methods/list/remove) to be useful for the next problem"
   ]
  },
  {
   "cell_type": "code",
   "execution_count": null,
   "metadata": {},
   "outputs": [],
   "source": [
    "line_of_hungry_patrons = list(range(0,30))\n",
    "fed_patrons = []\n",
    "# use a while loop to to feed the hungry patrons who have an even number\n",
    "# add the patrons with an even number to the fed_patrons list\n",
    "# then remove the even numbered patrons from the line_of_hungry_patrons\n",
    "# each list should contain 15 elements"
   ]
  },
  {
   "cell_type": "markdown",
   "metadata": {},
   "source": [
    "### `break` And `continue` Statements"
   ]
  },
  {
   "cell_type": "markdown",
   "metadata": {},
   "source": [
    "We have a list of person objects with all kinds of attributes. We'll use loops to find a person that meets a certain requirement that we are looking for or create new lists with a certain subset of elements. Write for loops with conditional statements in conjunction with `break` and `continue` to get the desired output."
   ]
  },
  {
   "cell_type": "code",
   "execution_count": 9,
   "metadata": {},
   "outputs": [],
   "source": [
    "people = [\n",
    "    {'name': \"Daniel\", 'age': 29, 'job': \"Engineer\", 'pet': \"Cat\", 'pet_name': \"Gato\"}, \n",
    "    {'name': \"Katie\", 'age': 30, 'job': \"Teacher\", 'pet': \"Dog\", 'pet_name': \"Frank\"},\n",
    "    {'name': \"Owen\", 'age': 26, 'job': \"Sales person\", 'pet': \"Cat\", 'pet_name': \"Cosmo\"},\n",
    "    {'name': \"Josh\", 'age': 22, 'job': \"Student\", 'pet': \"Cat\", 'pet_name': \"Chat\"},\n",
    "    {'name': \"Estelle\", 'age': 35, 'job': \"French Diplomat\", 'pet': \"Dog\", 'pet_name': \"Gabby\"},\n",
    "    {'name': \"Gustav\", 'age': 24, 'job': \"Brewer\", 'pet': \"Dog\", 'pet_name': \"Helen\"}\n",
    "]"
   ]
  },
  {
   "cell_type": "code",
   "execution_count": 11,
   "metadata": {},
   "outputs": [
    {
     "name": "stdout",
     "output_type": "stream",
     "text": [
      "key1 1\n",
      "key2 2\n",
      "key3 3\n"
     ]
    }
   ],
   "source": [
    "# use the for loop below to find the *first* person in the list of people that has a dog as their pet\n",
    "# the iteration count shouldn't exceed 2 iterations\n",
    "first_dog_person = None\n",
    "iteration_count = 0\n",
    "for person in people:\n",
    "    iteration_count += 1\n",
    "    pass\n",
    "lst = [{'key1': 1}, {'key2': 2}, {'key3': 3}]\n",
    "for x in lst:\n",
    "    for k, v in x.items():\n",
    "        print(k, v)"
   ]
  },
  {
   "cell_type": "code",
   "execution_count": null,
   "metadata": {},
   "outputs": [],
   "source": [
    "# use a for loop to create a list of the cat owners who are under the age of 28\n",
    "# remember to use break and continue to make your code more efficient\n",
    "cat_owners = None\n",
    "# for loop goes here"
   ]
  },
  {
   "cell_type": "code",
   "execution_count": null,
   "metadata": {},
   "outputs": [],
   "source": [
    "# use a for loop to find the first person who is above 29 years old in our list of people\n",
    "# remember to use a break and or continue statement\n",
    "thirty_something_yr_old = None\n",
    "# for loop goes here"
   ]
  },
  {
   "cell_type": "code",
   "execution_count": null,
   "metadata": {},
   "outputs": [],
   "source": [
    "# use a for loop to create a list of person names and another list of pet names for all dog owners\n",
    "# remember to use break and or continue statements\n",
    "dog_owner_names = None\n",
    "dog_names = None\n",
    "# for loop goes here"
   ]
  },
  {
   "cell_type": "code",
   "execution_count": null,
   "metadata": {},
   "outputs": [],
   "source": [
    "# use a for loop to create a list of person names and another list of pet names for all cat owners this time\n",
    "# remember to use break and or continue statements\n",
    "cat_owner_names = None\n",
    "cat_names = None\n",
    "# for loop goes here"
   ]
  },
  {
   "cell_type": "code",
   "execution_count": null,
   "metadata": {},
   "outputs": [],
   "source": [
    "# use a for loop to create a list of odd numbers from the list of numbers from 0 to 100\n",
    "# each time there is an odd number, add 10 to it and append it to the list_of_odd_numbers_plus_ten\n",
    "# stop adding numbers to the list when there are 35 numbers\n",
    "# use break and continue statements in your code\n",
    "list_of_numbers = list(range(0,100))\n",
    "list_of_odd_numbers_plus_ten = []\n",
    "for number in list_of_numbers:\n",
    "    pass"
   ]
  },
  {
   "cell_type": "markdown",
   "metadata": {},
   "source": [
    "## Summary"
   ]
  },
  {
   "cell_type": "markdown",
   "metadata": {},
   "source": [
    "In this lab, we practiced using while loops, which continue executing their block of code until the given condition is no longer truthy. This is useful for instances where we do not have a collection or do not need a collection to solve our problem, especially when we would only like to stop the process according to a certain condition. We then practiced using control flow statements, `break` and `continue`, to selectively operate on elements, append them to new lists, or assign them to new variables."
   ]
  }
 ],
 "metadata": {
  "kernelspec": {
   "display_name": "Python 3",
   "language": "python",
   "name": "python3"
  },
  "language_info": {
   "codemirror_mode": {
    "name": "ipython",
    "version": 3
   },
   "file_extension": ".py",
   "mimetype": "text/x-python",
   "name": "python",
   "nbconvert_exporter": "python",
   "pygments_lexer": "ipython3",
   "version": "3.6.6"
  }
 },
 "nbformat": 4,
 "nbformat_minor": 2
}
